{
 "cells": [
  {
   "cell_type": "markdown",
   "metadata": {},
   "source": [
    " # 01. calculator using Python with addition , subtraction , multiplication ,division and power\n",
    "."
   ]
  },
  {
   "cell_type": "code",
   "execution_count": 1,
   "metadata": {},
   "outputs": [
    {
     "name": "stdout",
     "output_type": "stream",
     "text": [
      "Select operation.\n",
      "1.Add\n",
      "2.Subtract\n",
      "3.Multiply\n",
      "4.Divide\n",
      "5.power\n",
      "Enter choice(1/2/3/4/5): 1\n",
      "Enter first number: 4\n",
      "Enter second number: 5\n",
      "4.0 + 5.0 = 9.0\n"
     ]
    }
   ],
   "source": [
    "# This function adds two numbers \n",
    "def add(x, y):\n",
    "    return x + y\n",
    "# This function subtracts two numbers \n",
    "def subtract(x, y):\n",
    "    return x - y\n",
    "# This function multiplies two numbers\n",
    "def multiply(x, y):\n",
    "    return x * y\n",
    "# This function divides two numbers\n",
    "def divide(x, y):\n",
    "    return x / y\n",
    "print(\"Select operation.\")\n",
    "print(\"1.Add\")\n",
    "print(\"2.Subtract\")\n",
    "print(\"3.Multiply\")\n",
    "print(\"4.Divide\")\n",
    "print(\"5.power\")\n",
    "# Take input from the user \n",
    "\n",
    "choice = input(\"Enter choice(1/2/3/4/5): \")\n",
    "\n",
    "num1 = float(input(\"Enter first number: \"))\n",
    "num2 = float(input(\"Enter second number: \"))\n",
    "if choice == '1':\n",
    "    print(num1,\"+\",num2,\"=\", add(num1,num2))\n",
    "elif choice == '2':\n",
    "    print(num1,\"-\",num2,\"=\", subtract(num1,num2))\n",
    "elif choice == '3':\n",
    "    print(num1,\"*\",num2,\"=\", multiply(num1,num2))\n",
    "elif choice == '4':\n",
    "    print(num1,\"/\",num2,\"=\", divide(num1,num2))\n",
    "elif choice == '5':\n",
    "    print(num1,\"power\")\n",
    "else:\n",
    "    print(\"Invalid input\")"
   ]
  },
  {
   "cell_type": "markdown",
   "metadata": {},
   "source": [
    "# 02. Program to check if there is any numeric value in list using for loop\n"
   ]
  },
  {
   "cell_type": "code",
   "execution_count": null,
   "metadata": {},
   "outputs": [],
   "source": []
  },
  {
   "cell_type": "markdown",
   "metadata": {},
   "source": [
    "# 03.Python script to add a key to a dictionary"
   ]
  },
  {
   "cell_type": "code",
   "execution_count": 2,
   "metadata": {},
   "outputs": [],
   "source": [
    "Dic = {\"Name\" :\"Ali \",\"gender\":\"Male\", \"Age\" :30}"
   ]
  },
  {
   "cell_type": "code",
   "execution_count": 3,
   "metadata": {},
   "outputs": [
    {
     "data": {
      "text/plain": [
       "{'Name': 'Ali ', 'gender': 'Male', 'Age': 30}"
      ]
     },
     "execution_count": 3,
     "metadata": {},
     "output_type": "execute_result"
    }
   ],
   "source": [
    "Dic"
   ]
  },
  {
   "cell_type": "code",
   "execution_count": 4,
   "metadata": {},
   "outputs": [],
   "source": [
    "Dic[\"email\"]=\"alikhan124@gmail.com\"\n",
    "Dic[\"Father Name\"]=\"Ahmed Khan\""
   ]
  },
  {
   "cell_type": "code",
   "execution_count": 5,
   "metadata": {},
   "outputs": [
    {
     "data": {
      "text/plain": [
       "{'Name': 'Ali ',\n",
       " 'gender': 'Male',\n",
       " 'Age': 30,\n",
       " 'email': 'alikhan124@gmail.com',\n",
       " 'Father Name': 'Ahmed Khan'}"
      ]
     },
     "execution_count": 5,
     "metadata": {},
     "output_type": "execute_result"
    }
   ],
   "source": [
    "Dic"
   ]
  },
  {
   "cell_type": "code",
   "execution_count": null,
   "metadata": {},
   "outputs": [],
   "source": []
  },
  {
   "cell_type": "markdown",
   "metadata": {},
   "source": [
    "# 04.Python program to sum all the numeric items in a dictionary"
   ]
  },
  {
   "cell_type": "code",
   "execution_count": 6,
   "metadata": {},
   "outputs": [
    {
     "data": {
      "text/plain": [
       "{'age1': 20, 'age2': 24, 'age3': 51, 'age4': 19}"
      ]
     },
     "execution_count": 6,
     "metadata": {},
     "output_type": "execute_result"
    }
   ],
   "source": [
    "ages={\"age1\":20,\"age2\":24,\"age3\":51,\"age4\":19}\n",
    "ages"
   ]
  },
  {
   "cell_type": "code",
   "execution_count": 7,
   "metadata": {},
   "outputs": [
    {
     "name": "stdout",
     "output_type": "stream",
     "text": [
      "114\n"
     ]
    }
   ],
   "source": [
    "sum_of_ages=sum(ages.values())\n",
    "print(sum_of_ages)"
   ]
  },
  {
   "cell_type": "code",
   "execution_count": 23,
   "metadata": {},
   "outputs": [
    {
     "data": {
      "text/plain": [
       "{1: 21, 2: 24, 3: 45, 4: 29}"
      ]
     },
     "execution_count": 23,
     "metadata": {},
     "output_type": "execute_result"
    }
   ],
   "source": [
    "number_of_ages={1:21 , 2:24 , 3:45 , 4:29}\n",
    "number_of_ages"
   ]
  },
  {
   "cell_type": "markdown",
   "metadata": {},
   "source": [
    "# 05.Program to identify duplicate values from list"
   ]
  },
  {
   "cell_type": "code",
   "execution_count": 49,
   "metadata": {},
   "outputs": [
    {
     "data": {
      "text/plain": [
       "['ali', 'ahmed', 'nabeel', 'kashif', 'ahmed', 'ali', 'sajid', 'ahmed']"
      ]
     },
     "execution_count": 49,
     "metadata": {},
     "output_type": "execute_result"
    }
   ],
   "source": [
    "students = [\"ali\",\"ahmed\",\"nabeel\",\"kashif\",\"ahmed\",\"ali\",\"sajid\",\"ahmed\"]\n",
    "students"
   ]
  },
  {
   "cell_type": "code",
   "execution_count": 50,
   "metadata": {},
   "outputs": [
    {
     "data": {
      "text/plain": [
       "3"
      ]
     },
     "execution_count": 50,
     "metadata": {},
     "output_type": "execute_result"
    }
   ],
   "source": [
    "students.count(\"ahmed\")"
   ]
  },
  {
   "cell_type": "markdown",
   "metadata": {},
   "source": [
    "# 06.Python script to check if a given key already exists in a dictionary "
   ]
  },
  {
   "cell_type": "code",
   "execution_count": null,
   "metadata": {},
   "outputs": [],
   "source": []
  }
 ],
 "metadata": {
  "kernelspec": {
   "display_name": "Python 3",
   "language": "python",
   "name": "python3"
  },
  "language_info": {
   "codemirror_mode": {
    "name": "ipython",
    "version": 3
   },
   "file_extension": ".py",
   "mimetype": "text/x-python",
   "name": "python",
   "nbconvert_exporter": "python",
   "pygments_lexer": "ipython3",
   "version": "3.7.3"
  }
 },
 "nbformat": 4,
 "nbformat_minor": 2
}
