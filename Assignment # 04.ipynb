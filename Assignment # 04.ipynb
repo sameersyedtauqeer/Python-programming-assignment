{
 "cells": [
  {
   "cell_type": "markdown",
   "metadata": {},
   "source": [
    "# Question1:\n",
    "Use a dictionary to store information about a person you know. Store their first name, last name, age, and the city in which they live. You should have keys such as first_name, last_name, age, and city. Print each piece of information stored in your dictionary. Add a new key value pair about qualification then update the qualification value to high academic level then delete it.\n"
   ]
  },
  {
   "cell_type": "code",
   "execution_count": 1,
   "metadata": {},
   "outputs": [
    {
     "data": {
      "text/plain": [
       "{'First_Name': 'Kashif', 'Last_Name': 'Iqbal', 'age': 36, 'city': 'karachi'}"
      ]
     },
     "execution_count": 1,
     "metadata": {},
     "output_type": "execute_result"
    }
   ],
   "source": [
    "person_info={\"First_Name\":\"Kashif\",\"Last_Name\":\"Iqbal\",\"age\":36,\"city\":\"karachi\"}\n",
    "person_info\n",
    "\n"
   ]
  },
  {
   "cell_type": "code",
   "execution_count": 2,
   "metadata": {},
   "outputs": [
    {
     "data": {
      "text/plain": [
       "{'First_Name': 'Kashif',\n",
       " 'Last_Name': 'Iqbal',\n",
       " 'age': 36,\n",
       " 'city': 'karachi',\n",
       " 'Qualification': 'Intermidiate'}"
      ]
     },
     "execution_count": 2,
     "metadata": {},
     "output_type": "execute_result"
    }
   ],
   "source": [
    "person_info[\"Qualification\"]=\"Intermidiate\"\n",
    "person_info\n"
   ]
  },
  {
   "cell_type": "code",
   "execution_count": 3,
   "metadata": {},
   "outputs": [],
   "source": [
    "HigQual={\"Qualification\":\"graduate\"}"
   ]
  },
  {
   "cell_type": "code",
   "execution_count": 4,
   "metadata": {},
   "outputs": [
    {
     "data": {
      "text/plain": [
       "{'First_Name': 'Kashif',\n",
       " 'Last_Name': 'Iqbal',\n",
       " 'age': 36,\n",
       " 'city': 'karachi',\n",
       " 'Qualification': 'graduate'}"
      ]
     },
     "execution_count": 4,
     "metadata": {},
     "output_type": "execute_result"
    }
   ],
   "source": [
    "person_info.update(HigQual)\n",
    "person_info"
   ]
  },
  {
   "cell_type": "code",
   "execution_count": 5,
   "metadata": {},
   "outputs": [
    {
     "data": {
      "text/plain": [
       "{'First_Name': 'Kashif', 'Last_Name': 'Iqbal', 'age': 36, 'city': 'karachi'}"
      ]
     },
     "execution_count": 5,
     "metadata": {},
     "output_type": "execute_result"
    }
   ],
   "source": [
    "del person_info[\"Qualification\"]\n",
    "person_info"
   ]
  },
  {
   "cell_type": "code",
   "execution_count": null,
   "metadata": {},
   "outputs": [],
   "source": []
  },
  {
   "cell_type": "markdown",
   "metadata": {},
   "source": [
    "# Question2:\n",
    "Make a dictionary called cities. Use the names of three cities as keys in your dictionary. Create a dictionary of information about each city and include the country that the city is in, its approximate population, and one fact about that city. The keys for each city’s dictionary should be something like country, population, and fact. Print the name of each city and all of the information you have stored about it.\n"
   ]
  },
  {
   "cell_type": "code",
   "execution_count": 6,
   "metadata": {},
   "outputs": [
    {
     "data": {
      "text/plain": [
       "{'karachi': {'Information': {'country': 'Pakistan',\n",
       "   'Population': '20.44 M',\n",
       "   'Fact': 'City of Lights'}},\n",
       " 'Dubai': {'Information': {'country': 'UAE',\n",
       "   'Population': '3.17 M',\n",
       "   'Fact': 'Crazy,Fun and Intersting'}},\n",
       " 'Dhaka': {'Information': {'country': 'Bangladesh',\n",
       "   'Population': '14.91 M',\n",
       "   'Fact': 'Traffic and Crowd'}}}"
      ]
     },
     "execution_count": 6,
     "metadata": {},
     "output_type": "execute_result"
    }
   ],
   "source": [
    "cities={\"karachi\":{\"Information\":{\"country\":\"Pakistan\",\"Population\":\"20.44 M\",\"Fact\":\"City of Lights\"}},\n",
    "         \"Dubai\":{\"Information\":{\"country\":\"UAE\",\"Population\":\"3.17 M\",\"Fact\":\"Crazy,Fun and Intersting\"}},\n",
    "         \"Dhaka\":{\"Information\":{\"country\":\"Bangladesh\",\"Population\":\"14.91 M\",\"Fact\":\"Traffic and Crowd\"}}}\n",
    "\n",
    "cities"
   ]
  },
  {
   "cell_type": "code",
   "execution_count": 7,
   "metadata": {},
   "outputs": [
    {
     "data": {
      "text/plain": [
       "{'country': 'UAE', 'Population': '3.17 M', 'Fact': 'Crazy,Fun and Intersting'}"
      ]
     },
     "execution_count": 7,
     "metadata": {},
     "output_type": "execute_result"
    }
   ],
   "source": [
    "cities[\"Dubai\"][\"Information\"]"
   ]
  },
  {
   "cell_type": "code",
   "execution_count": 8,
   "metadata": {},
   "outputs": [
    {
     "data": {
      "text/plain": [
       "{'Information': {'country': 'UAE',\n",
       "  'Population': '3.17 M',\n",
       "  'Fact': 'Crazy,Fun and Intersting'}}"
      ]
     },
     "execution_count": 8,
     "metadata": {},
     "output_type": "execute_result"
    }
   ],
   "source": [
    "cities[\"Dubai\"]"
   ]
  },
  {
   "cell_type": "code",
   "execution_count": 9,
   "metadata": {},
   "outputs": [
    {
     "data": {
      "text/plain": [
       "{'Information': {'country': 'Bangladesh',\n",
       "  'Population': '14.91 M',\n",
       "  'Fact': 'Traffic and Crowd'}}"
      ]
     },
     "execution_count": 9,
     "metadata": {},
     "output_type": "execute_result"
    }
   ],
   "source": [
    "cities[\"Dhaka\"]"
   ]
  },
  {
   "cell_type": "code",
   "execution_count": 10,
   "metadata": {},
   "outputs": [
    {
     "data": {
      "text/plain": [
       "{'Information': {'country': 'Pakistan',\n",
       "  'Population': '20.44 M',\n",
       "  'Fact': 'City of Lights'}}"
      ]
     },
     "execution_count": 10,
     "metadata": {},
     "output_type": "execute_result"
    }
   ],
   "source": [
    "cities[\"karachi\"]"
   ]
  },
  {
   "cell_type": "markdown",
   "metadata": {},
   "source": [
    "# Question3:\n",
    "A movie theater charges different ticket prices depending on a person’s age. If a person is under the age of 3, the ticket is free; if they are between 3 and 12, the ticket is $10; and if they are over age 12, the ticket is $15. Write a loop in which you ask users their age, and then tell them the cost of their movie ticket.\n"
   ]
  },
  {
   "cell_type": "code",
   "execution_count": 12,
   "metadata": {},
   "outputs": [
    {
     "name": "stdout",
     "output_type": "stream",
     "text": [
      "Welcome to theater\n",
      "Enter Your Age 5\n",
      "You have to pay $10\n",
      "Enter Your Age 1\n",
      "Ticket is free for you\n",
      "Enter Your Age 16\n",
      "You have to pay $15\n",
      "Enter Your Age quit\n"
     ]
    }
   ],
   "source": [
    "print(\"Welcome to theater\")\n",
    "\n",
    "EnterAge = \"Enter Your Age\"\n",
    "\n",
    "while True:\n",
    "    age = input(EnterAge)\n",
    "    if age == 'quit':\n",
    "        break\n",
    "    age = int(age)\n",
    "\n",
    "    if(age <= 3):\n",
    "        print(\"Ticket is free for you\")\n",
    "\n",
    "    elif(age >3 and age<=12):\n",
    "        print(\"You have to pay $10\")\n",
    "    else:\n",
    "        (age >12)\n",
    "        print(\"You have to pay $15\")\n",
    "    \n",
    "        \n",
    "\n"
   ]
  },
  {
   "cell_type": "code",
   "execution_count": null,
   "metadata": {},
   "outputs": [],
   "source": []
  },
  {
   "cell_type": "markdown",
   "metadata": {},
   "source": [
    "# Question4:\n",
    "Write a function called favorite_book() that accepts one parameter, title. The function should print a message, such as One of my favorite books is Alice in Wonderland. Call the function, making sure to include a book title as an argument in the function call.\n"
   ]
  },
  {
   "cell_type": "code",
   "execution_count": 16,
   "metadata": {
    "scrolled": true
   },
   "outputs": [
    {
     "name": "stdout",
     "output_type": "stream",
     "text": [
      "Romeo and Juliat is one of my favorite books.\n"
     ]
    }
   ],
   "source": [
    "def favorite_book(title):\n",
    "    \"\"\"Display a message about someone's favorite book.\"\"\"\n",
    "    print(title + \" is one of my favorite books.\")\n",
    "\n",
    "favorite_book('Romeo and Juliat')"
   ]
  },
  {
   "cell_type": "code",
   "execution_count": null,
   "metadata": {},
   "outputs": [],
   "source": []
  }
 ],
 "metadata": {
  "kernelspec": {
   "display_name": "Python 3",
   "language": "python",
   "name": "python3"
  },
  "language_info": {
   "codemirror_mode": {
    "name": "ipython",
    "version": 3
   },
   "file_extension": ".py",
   "mimetype": "text/x-python",
   "name": "python",
   "nbconvert_exporter": "python",
   "pygments_lexer": "ipython3",
   "version": "3.7.3"
  }
 },
 "nbformat": 4,
 "nbformat_minor": 2
}
