{
 "cells": [
  {
   "cell_type": "markdown",
   "metadata": {},
   "source": [
    " ## ***Assignment # 2***"
   ]
  },
  {
   "cell_type": "markdown",
   "metadata": {},
   "source": [
    "## 1.Program which takes 5 inputs from user for different subject’s marks, total it and generate mark sheet using grades \n"
   ]
  },
  {
   "cell_type": "code",
   "execution_count": 1,
   "metadata": {
    "scrolled": true
   },
   "outputs": [
    {
     "name": "stdout",
     "output_type": "stream",
     "text": [
      "Enter your first subject Marks:47\n",
      "Enter your second subject Marks:78\n",
      "Enter your third subject Marks:79\n",
      "Enter your fourth subject Marks:74\n",
      "Enter your fifth subject Marks:75\n",
      "Your total numbers are 353.0\n",
      "Your Percentage is 70.6 %\n",
      "Your grade is A\n"
     ]
    }
   ],
   "source": [
    "sub1 = float(input(\"Enter your first subject Marks:\"))\n",
    "sub2 = float(input(\"Enter your second subject Marks:\"))\n",
    "sub3 = float(input(\"Enter your third subject Marks:\"))\n",
    "sub4 = float(input(\"Enter your fourth subject Marks:\"))\n",
    "sub5 = float(input(\"Enter your fifth subject Marks:\"))\n",
    "\n",
    "\n",
    "marks_obtain = sub1+sub2+sub3+sub4+sub5\n",
    "print(f\"Your total numbers are {marks_obtain}\")\n",
    "\n",
    "average = (marks_obtain)/5\n",
    "print(f\"Your Percentage is {average} %\")\n",
    "\n",
    "if(average >= 80):\n",
    "    print(\"Your grade is A+\")\n",
    "elif(average >= 70 and average <= 80):\n",
    "    print(\"Your grade is A\")\n",
    "elif(average >= 60 and average <=70):\n",
    "    print(\"Your grade is B\")\n",
    "elif(average >=50 and average <=60):\n",
    "    print(\"Your grade is C\")\n",
    "elif(average >=40 and average <=50):\n",
    "    print(\"Your grade is D\")\n",
    "elif(average <=40):\n",
    "    print(\"Your are Fail\")\n",
    "\n",
    "\n"
   ]
  },
  {
   "cell_type": "code",
   "execution_count": null,
   "metadata": {},
   "outputs": [],
   "source": []
  },
  {
   "cell_type": "markdown",
   "metadata": {},
   "source": [
    "### 2.Program which take input from user and identify that the given number is even or odd\n"
   ]
  },
  {
   "cell_type": "code",
   "execution_count": 2,
   "metadata": {},
   "outputs": [
    {
     "name": "stdout",
     "output_type": "stream",
     "text": [
      "Enter your number 4\n",
      "Given number is even number\n"
     ]
    }
   ],
   "source": [
    "number = int(input(\"Enter your number \"))\n",
    "check = number % 2\n",
    "if check == 0:\n",
    "    print(\"Given number is even number\")\n",
    "else:\n",
    "    (check == 1)\n",
    "    print(\"Given number is odd number \")\n"
   ]
  },
  {
   "cell_type": "code",
   "execution_count": null,
   "metadata": {},
   "outputs": [],
   "source": []
  },
  {
   "cell_type": "markdown",
   "metadata": {},
   "source": [
    "## 3.Program which print the length of the list"
   ]
  },
  {
   "cell_type": "code",
   "execution_count": 3,
   "metadata": {},
   "outputs": [
    {
     "name": "stdout",
     "output_type": "stream",
     "text": [
      "['apple', 'orange', 'mango', 'watermelon', 'banana', 'cherry']\n"
     ]
    },
    {
     "data": {
      "text/plain": [
       "6"
      ]
     },
     "execution_count": 3,
     "metadata": {},
     "output_type": "execute_result"
    }
   ],
   "source": [
    "list1 =[\"apple\",\"orange\",\"mango\",\"watermelon\",\"banana\",\"cherry\"]\n",
    "print(list1)\n",
    "\n",
    "len(list1)"
   ]
  },
  {
   "cell_type": "code",
   "execution_count": null,
   "metadata": {},
   "outputs": [],
   "source": []
  },
  {
   "cell_type": "markdown",
   "metadata": {},
   "source": [
    "### 4.Python program to sum all the numeric items in a list"
   ]
  },
  {
   "cell_type": "code",
   "execution_count": null,
   "metadata": {},
   "outputs": [],
   "source": []
  },
  {
   "cell_type": "markdown",
   "metadata": {},
   "source": [
    "### 5.Python program to get the largest number from a numeric list."
   ]
  },
  {
   "cell_type": "code",
   "execution_count": 4,
   "metadata": {},
   "outputs": [
    {
     "name": "stdout",
     "output_type": "stream",
     "text": [
      "[52, 41, 85, 78, 98, 101, 4, 6, 8, 99]\n"
     ]
    },
    {
     "data": {
      "text/plain": [
       "101"
      ]
     },
     "execution_count": 4,
     "metadata": {},
     "output_type": "execute_result"
    }
   ],
   "source": [
    "list2 = [52,41,85,78,98,101,4,6,8,99]\n",
    "print(list2)\n",
    "max(list2)"
   ]
  },
  {
   "cell_type": "code",
   "execution_count": null,
   "metadata": {},
   "outputs": [],
   "source": []
  },
  {
   "cell_type": "markdown",
   "metadata": {},
   "source": [
    "### 6. Program that prints out all the elements of the list that are less than 5."
   ]
  },
  {
   "cell_type": "code",
   "execution_count": 5,
   "metadata": {},
   "outputs": [
    {
     "name": "stdout",
     "output_type": "stream",
     "text": [
      "[1, 1, 2, 3, 5, 8, 13, 21, 4, 55, 3.4]\n",
      "1\n",
      "1\n",
      "2\n",
      "3\n",
      "5\n",
      "4\n",
      "3.4\n"
     ]
    }
   ],
   "source": [
    "a = [1, 1, 2, 3, 5, 8, 13, 21, 4, 55, 3.4]\n",
    "print(a)\n",
    "\n",
    "for ele in a:\n",
    "    \n",
    "    if ele <=5:\n",
    "        print(ele)\n",
    "\n",
    "\n",
    "\n"
   ]
  },
  {
   "cell_type": "code",
   "execution_count": null,
   "metadata": {},
   "outputs": [],
   "source": []
  }
 ],
 "metadata": {
  "kernelspec": {
   "display_name": "Python 3",
   "language": "python",
   "name": "python3"
  },
  "language_info": {
   "codemirror_mode": {
    "name": "ipython",
    "version": 3
   },
   "file_extension": ".py",
   "mimetype": "text/x-python",
   "name": "python",
   "nbconvert_exporter": "python",
   "pygments_lexer": "ipython3",
   "version": "3.7.3"
  }
 },
 "nbformat": 4,
 "nbformat_minor": 2
}
